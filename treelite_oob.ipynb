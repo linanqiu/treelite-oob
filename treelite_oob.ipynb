{
 "cells": [
  {
   "cell_type": "code",
   "execution_count": 1,
   "id": "38e26b34-6e40-4ab1-8f9b-0b4c6cf483a2",
   "metadata": {},
   "outputs": [],
   "source": [
    "import sklearn.datasets\n",
    "import sklearn.ensemble\n",
    "import numpy\n",
    "import treelite\n",
    "import treelite_runtime"
   ]
  },
  {
   "cell_type": "code",
   "execution_count": 2,
   "id": "556067a8-4e9f-42f2-928e-1f9edd5f3051",
   "metadata": {},
   "outputs": [
    {
     "name": "stdout",
     "output_type": "stream",
     "text": [
      "[Errno 2] No such file or directory: 'treelite-oob'\n",
      "/home/jovyan/treelite-oob\n"
     ]
    }
   ],
   "source": [
    "%cd treelite-oob"
   ]
  },
  {
   "cell_type": "code",
   "execution_count": 3,
   "id": "310bd377-9e28-4c61-a0da-6507aa70ddb6",
   "metadata": {},
   "outputs": [],
   "source": [
    "d = sklearn.datasets.fetch_california_housing(data_home = './bin')"
   ]
  },
  {
   "cell_type": "code",
   "execution_count": 4,
   "id": "f86a0fe6-af52-4b36-ae93-0121f168e62b",
   "metadata": {},
   "outputs": [
    {
     "data": {
      "text/plain": [
       "(20640, 8)"
      ]
     },
     "execution_count": 4,
     "metadata": {},
     "output_type": "execute_result"
    }
   ],
   "source": [
    "x = d['data']\n",
    "y = d['target']\n",
    "x.shape"
   ]
  },
  {
   "cell_type": "code",
   "execution_count": 5,
   "id": "a3cbb840-2949-41f4-bb88-817192a6fbd7",
   "metadata": {},
   "outputs": [
    {
     "data": {
      "text/plain": [
       "(0.5539804583170151, 100)"
      ]
     },
     "execution_count": 5,
     "metadata": {},
     "output_type": "execute_result"
    }
   ],
   "source": [
    "forest = sklearn.ensemble.RandomForestRegressor(n_estimators = 100, max_depth = 3, oob_score = True, random_state = 0)\n",
    "forest.fit(x, y)\n",
    "(forest.oob_score_, len(forest.estimators_))"
   ]
  },
  {
   "cell_type": "code",
   "execution_count": 6,
   "id": "b800d447-90a3-477a-8f52-b0fd23fc93bd",
   "metadata": {},
   "outputs": [],
   "source": [
    "# check that my reproduction of bootstrap sampling indices is accurate\n",
    "\n",
    "oob_preds = numpy.zeros(y.shape[0])\n",
    "n_oob_preds = numpy.zeros(y.shape[0])\n",
    "\n",
    "for i in range(forest.n_estimators):\n",
    "    tree = forest.estimators_[i]\n",
    "    unsampled_indices = sklearn.ensemble._forest._generate_unsampled_indices(tree.random_state, y.shape[0], y.shape[0])\n",
    "    oob_pred = tree.predict(x[unsampled_indices, :])\n",
    "    oob_preds[unsampled_indices] += oob_pred\n",
    "    n_oob_preds[unsampled_indices] += 1\n",
    "\n",
    "n_oob_preds[n_oob_preds == 0] = 1\n",
    "oob_preds /= n_oob_preds"
   ]
  },
  {
   "cell_type": "code",
   "execution_count": 7,
   "id": "1e4e7a7b-caf7-4b9f-9664-191bf08f21db",
   "metadata": {},
   "outputs": [
    {
     "data": {
      "text/plain": [
       "True"
      ]
     },
     "execution_count": 7,
     "metadata": {},
     "output_type": "execute_result"
    }
   ],
   "source": [
    "numpy.all(oob_preds == forest.oob_prediction_)"
   ]
  },
  {
   "cell_type": "code",
   "execution_count": 8,
   "id": "a71b3373-a72c-4174-9913-953766649ad1",
   "metadata": {},
   "outputs": [],
   "source": [
    "# vanilla treelite"
   ]
  },
  {
   "cell_type": "code",
   "execution_count": 9,
   "id": "03d35a64-b7aa-4af0-9675-898ca683f193",
   "metadata": {},
   "outputs": [
    {
     "name": "stderr",
     "output_type": "stream",
     "text": [
      "/opt/conda/lib/python3.10/site-packages/sklearn/utils/deprecation.py:103: FutureWarning: Attribute `n_features_` was deprecated in version 1.0 and will be removed in 1.2. Use `n_features_in_` instead.\n",
      "  warnings.warn(msg, category=FutureWarning)\n"
     ]
    },
    {
     "name": "stdout",
     "output_type": "stream",
     "text": [
      "[15:37:28] ../src/compiler/ast/split.cc:29: Parallel compilation enabled; member trees will be divided into 32 translation units.\n"
     ]
    }
   ],
   "source": [
    "model_sklearn = treelite.sklearn.import_model(forest)\n",
    "model_sklearn.export_lib(toolchain = 'gcc', libpath = './bin/model_sklearn.so', params = {'parallel_comp': 32})\n",
    "predictor_sklearn = treelite_runtime.Predictor('./bin/model_sklearn.so')"
   ]
  },
  {
   "cell_type": "code",
   "execution_count": 10,
   "id": "892cd163-653d-40ba-9d8c-47cfdf2a7bd4",
   "metadata": {},
   "outputs": [
    {
     "name": "stdout",
     "output_type": "stream",
     "text": [
      "[15:37:31] ../src/predictor/predictor.cc:464: Treelite: Finished prediction in 0.0034318 sec\n"
     ]
    },
    {
     "data": {
      "text/plain": [
       "True"
      ]
     },
     "execution_count": 10,
     "metadata": {},
     "output_type": "execute_result"
    }
   ],
   "source": [
    "pred_truth = forest.predict(x)\n",
    "pred_sklearn = predictor_sklearn.predict(treelite_runtime.DMatrix(x, dtype = 'float32'), verbose = True)\n",
    "\n",
    "numpy.allclose(pred_truth, pred_sklearn)"
   ]
  },
  {
   "cell_type": "code",
   "execution_count": 11,
   "id": "f35252ad-0418-4bb5-8880-9104bccfa7bf",
   "metadata": {},
   "outputs": [],
   "source": [
    "# hand constructed treelite"
   ]
  },
  {
   "cell_type": "code",
   "execution_count": 12,
   "id": "e923624c-8b60-47de-bc76-7364dc3bc698",
   "metadata": {},
   "outputs": [],
   "source": [
    "def process_node(treelite_tree, sklearn_tree, node_id, sklearn_model):\n",
    "    if sklearn_tree.children_left[node_id] == -1:  # leaf node\n",
    "        process_leaf_node(treelite_tree, sklearn_tree, node_id, sklearn_model)\n",
    "    else:  # test node\n",
    "        process_test_node(treelite_tree, sklearn_tree, node_id, sklearn_model)\n",
    "\n",
    "def process_test_node(treelite_tree, sklearn_tree, node_id, sklearn_model):\n",
    "    # Process a test node with a given node ID. We shall assume that all tree ensembles in\n",
    "    # scikit-learn use only numerical splits.\n",
    "    treelite_tree[node_id].set_numerical_test_node(\n",
    "        feature_id = sklearn_tree.feature[node_id],\n",
    "        opname = '<=',\n",
    "        threshold = sklearn_tree.threshold[node_id],\n",
    "        threshold_type = 'float64',\n",
    "        default_left = True,\n",
    "        left_child_key = sklearn_tree.children_left[node_id],\n",
    "        right_child_key = sklearn_tree.children_right[node_id]\n",
    "    )\n",
    "\n",
    "def process_leaf_node(treelite_tree, sklearn_tree, node_id, sklearn_model):\n",
    "    # Process a test node with a given node ID\n",
    "    # The `value` attribute stores the output for every leaf node.\n",
    "    leaf_value = sklearn_tree.value[node_id].squeeze()\n",
    "    # Initialize the leaf node with given node ID\n",
    "    treelite_tree[node_id].set_leaf_node(leaf_value, leaf_value_type = 'float64')\n",
    "\n",
    "\n",
    "builder_hand = treelite.ModelBuilder(num_feature = forest.n_features_in_, average_tree_output = True, threshold_type = 'float64', leaf_output_type = 'float64')\n",
    "for i in range(forest.n_estimators):\n",
    "    sklearn_tree = forest.estimators_[i].tree_\n",
    "    treelite_tree = treelite.ModelBuilder.Tree(threshold_type = 'float64', leaf_output_type = 'float64')\n",
    "    \n",
    "    for node_id in range(sklearn_tree.node_count):\n",
    "        process_node(treelite_tree, sklearn_tree, node_id, sklearn_model = forest)\n",
    "    treelite_tree[0].set_root()\n",
    "    builder_hand.append(treelite_tree)\n",
    "\n",
    "model_hand = builder_hand.commit()"
   ]
  },
  {
   "cell_type": "code",
   "execution_count": 13,
   "id": "b61cf7aa-71a0-4a06-b3c6-b5544a77cecc",
   "metadata": {},
   "outputs": [
    {
     "name": "stdout",
     "output_type": "stream",
     "text": [
      "[15:37:32] ../src/compiler/ast/split.cc:29: Parallel compilation enabled; member trees will be divided into 32 translation units.\n"
     ]
    }
   ],
   "source": [
    "model_hand.export_lib(toolchain = 'gcc', libpath = './bin/model_hand.so', params = {'parallel_comp': 32})\n",
    "predictor_hand = treelite_runtime.Predictor('./bin/model_hand.so')"
   ]
  },
  {
   "cell_type": "code",
   "execution_count": 14,
   "id": "41092be3-e70c-40f4-b214-ef534863dbeb",
   "metadata": {},
   "outputs": [
    {
     "name": "stdout",
     "output_type": "stream",
     "text": [
      "float64\n",
      "[15:37:36] ../src/predictor/predictor.cc:464: Treelite: Finished prediction in 0.00633693 sec\n"
     ]
    },
    {
     "data": {
      "text/plain": [
       "True"
      ]
     },
     "execution_count": 14,
     "metadata": {},
     "output_type": "execute_result"
    }
   ],
   "source": [
    "print(predictor_hand.leaf_output_type)\n",
    "\n",
    "pred_truth = forest.predict(x)\n",
    "pred_hand = predictor_hand.predict(treelite_runtime.DMatrix(x, dtype = 'float32'), verbose = True)\n",
    "\n",
    "numpy.allclose(pred_truth, pred_hand)"
   ]
  },
  {
   "cell_type": "code",
   "execution_count": 15,
   "id": "cc5f1584-5051-4c09-9561-2db55c10eb00",
   "metadata": {},
   "outputs": [],
   "source": [
    "# oob"
   ]
  },
  {
   "cell_type": "code",
   "execution_count": 16,
   "id": "7290c4ed-da17-4698-a690-79a63b3bfb4f",
   "metadata": {},
   "outputs": [],
   "source": [
    "def process_node_oob(treelite_tree, sklearn_tree, node_id, sklearn_model, tree_index):\n",
    "    if sklearn_tree.children_left[node_id] == -1:  # leaf node\n",
    "        process_leaf_node_oob(treelite_tree, sklearn_tree, node_id, sklearn_model, tree_index)\n",
    "    else:  # test node\n",
    "        process_test_node_oob(treelite_tree, sklearn_tree, node_id, sklearn_model)\n",
    "\n",
    "def process_test_node_oob(treelite_tree, sklearn_tree, node_id, sklearn_model):\n",
    "    # Process a test node with a given node ID. We shall assume that all tree ensembles in\n",
    "    # scikit-learn use only numerical splits.\n",
    "    treelite_tree[node_id].set_numerical_test_node(\n",
    "        feature_id = sklearn_tree.feature[node_id],\n",
    "        opname = '<=',\n",
    "        threshold = sklearn_tree.threshold[node_id],\n",
    "        threshold_type = 'float64',\n",
    "        default_left = True,\n",
    "        left_child_key = sklearn_tree.children_left[node_id],\n",
    "        right_child_key = sklearn_tree.children_right[node_id]\n",
    "    )\n",
    "\n",
    "def process_leaf_node_oob(treelite_tree, sklearn_tree, node_id, sklearn_model, tree_index):\n",
    "    # Process a test node with a given node ID\n",
    "    # The `value` attribute stores the output for every leaf node.\n",
    "    leaf_value = sklearn_tree.value[node_id].squeeze()\n",
    "    # Initialize the leaf node with given node ID\n",
    "    # use a vector by tree index\n",
    "    leaf_vector = numpy.zeros(sklearn_model.n_estimators)\n",
    "    leaf_vector[tree_index] = leaf_value\n",
    "    treelite_tree[node_id].set_leaf_node(leaf_vector, leaf_value_type = 'float64')\n",
    "\n",
    "\n",
    "builder_oob = treelite.ModelBuilder(num_feature = forest.n_features_in_, average_tree_output = True, \n",
    "                                    pred_transform = 'identity_multiclass', num_class = forest.n_estimators,\n",
    "                                    threshold_type = 'float64', leaf_output_type = 'float64')\n",
    "for i in range(forest.n_estimators):\n",
    "    sklearn_tree = forest.estimators_[i].tree_\n",
    "    treelite_tree = treelite.ModelBuilder.Tree(threshold_type = 'float64', leaf_output_type = 'float64')\n",
    "    \n",
    "    for node_id in range(sklearn_tree.node_count):\n",
    "        process_node_oob(treelite_tree, sklearn_tree, node_id, sklearn_model = forest, tree_index = i)\n",
    "    treelite_tree[0].set_root()\n",
    "    builder_oob.append(treelite_tree)\n",
    "\n",
    "model_oob = builder_oob.commit()"
   ]
  },
  {
   "cell_type": "code",
   "execution_count": 17,
   "id": "cac958d9-aa6b-4a40-a6dc-7b7c5b023659",
   "metadata": {},
   "outputs": [
    {
     "name": "stdout",
     "output_type": "stream",
     "text": [
      "[15:37:38] ../src/compiler/ast/split.cc:29: Parallel compilation enabled; member trees will be divided into 32 translation units.\n"
     ]
    }
   ],
   "source": [
    "model_oob.export_lib(toolchain = 'gcc', libpath = './bin/model_oob.so', params = {'parallel_comp': 32})\n",
    "predictor_oob = treelite_runtime.Predictor('./bin/model_oob.so')"
   ]
  },
  {
   "cell_type": "code",
   "execution_count": 18,
   "id": "45b31452-7efe-47b5-9d14-fd2ba803f369",
   "metadata": {},
   "outputs": [
    {
     "name": "stdout",
     "output_type": "stream",
     "text": [
      "float64\n",
      "[15:37:54] ../src/predictor/predictor.cc:464: Treelite: Finished prediction in 0.0161564 sec\n"
     ]
    }
   ],
   "source": [
    "print(predictor_oob.leaf_output_type)\n",
    "\n",
    "pred_truth = forest.predict(x)\n",
    "pred_oob = predictor_oob.predict(treelite_runtime.DMatrix(x, dtype = 'float32'), verbose = True)"
   ]
  },
  {
   "cell_type": "code",
   "execution_count": 19,
   "id": "97f1810d-1104-4cad-aabb-baeaca545cc1",
   "metadata": {},
   "outputs": [
    {
     "name": "stdout",
     "output_type": "stream",
     "text": [
      "(100, 20640)\n"
     ]
    },
    {
     "data": {
      "text/plain": [
       "array([[False, False,  True, ...,  True,  True,  True],\n",
       "       [ True,  True,  True, ...,  True, False,  True],\n",
       "       [ True, False,  True, ..., False,  True, False],\n",
       "       ...,\n",
       "       [False, False, False, ...,  True,  True,  True],\n",
       "       [ True, False, False, ..., False,  True, False],\n",
       "       [False, False, False, ...,  True,  True,  True]])"
      ]
     },
     "execution_count": 19,
     "metadata": {},
     "output_type": "execute_result"
    }
   ],
   "source": [
    "sampled_by_tree = numpy.ones((forest.n_estimators, y.shape[0]), dtype = 'bool')\n",
    "for i in range(forest.n_estimators):\n",
    "    tree = forest.estimators_[i]\n",
    "    unsampled_indices = sklearn.ensemble._forest._generate_unsampled_indices(tree.random_state, y.shape[0], y.shape[0])\n",
    "    sampled_by_tree[i, unsampled_indices] = 0\n",
    "\n",
    "print(sampled_by_tree.shape)\n",
    "sampled_by_tree"
   ]
  },
  {
   "cell_type": "code",
   "execution_count": 20,
   "id": "58a5c6e7-feb6-4192-a31c-1ac5e26c091f",
   "metadata": {},
   "outputs": [
    {
     "data": {
      "text/plain": [
       "array([False,  True,  True,  True, False, False,  True,  True, False,\n",
       "       False,  True,  True,  True,  True, False,  True,  True, False,\n",
       "        True, False, False,  True,  True,  True, False,  True,  True,\n",
       "        True,  True,  True, False, False,  True,  True,  True,  True,\n",
       "       False, False,  True, False,  True,  True,  True,  True,  True,\n",
       "       False,  True, False, False,  True,  True, False,  True,  True,\n",
       "       False,  True,  True, False,  True, False,  True, False, False,\n",
       "       False,  True,  True,  True, False, False,  True,  True,  True,\n",
       "        True,  True,  True,  True,  True,  True, False,  True, False,\n",
       "        True,  True,  True,  True,  True,  True, False, False, False,\n",
       "        True,  True, False,  True,  True,  True,  True, False,  True,\n",
       "       False])"
      ]
     },
     "execution_count": 20,
     "metadata": {},
     "output_type": "execute_result"
    }
   ],
   "source": [
    "# first observation were sampled by these trees\n",
    "sampled_by_tree[:, 0]"
   ]
  },
  {
   "cell_type": "code",
   "execution_count": 21,
   "id": "709dcf35-8790-46ab-8657-91755a87ea20",
   "metadata": {},
   "outputs": [
    {
     "data": {
      "text/plain": [
       "array([0.04560552, 0.04570032, 0.04586979, 0.04569512, 0.03821047,\n",
       "       0.04371979, 0.04589362, 0.0402859 , 0.04581989, 0.04577618,\n",
       "       0.0400397 , 0.04544045, 0.03926476, 0.04001247, 0.04592836,\n",
       "       0.04122305, 0.0412437 , 0.03999852, 0.04589456, 0.0392282 ,\n",
       "       0.04590753, 0.04582622, 0.03946538, 0.0397702 , 0.04303944,\n",
       "       0.04600728, 0.04095347, 0.04560237, 0.04599909, 0.04586869,\n",
       "       0.03972882, 0.03990556, 0.04738166, 0.04646981, 0.03913978,\n",
       "       0.04602887, 0.04108574, 0.04012991, 0.04545299, 0.03930916,\n",
       "       0.04622483, 0.04627873, 0.04550603, 0.04582898, 0.0462196 ,\n",
       "       0.04567977, 0.04682332, 0.04071481, 0.04121475, 0.04610376,\n",
       "       0.04565651, 0.04593056, 0.0458457 , 0.04548754, 0.04324523,\n",
       "       0.04683947, 0.03986283, 0.04567417, 0.04694492, 0.04606315,\n",
       "       0.04620698, 0.03963573, 0.0394904 , 0.0390622 , 0.03992085,\n",
       "       0.04229458, 0.04585559, 0.04605572, 0.04589857, 0.03961649,\n",
       "       0.04561612, 0.04726357, 0.04569323, 0.04021279, 0.04561119,\n",
       "       0.04501901, 0.04585619, 0.04556664, 0.04586562, 0.04679627,\n",
       "       0.0397793 , 0.04570687, 0.03981519, 0.04555079, 0.04583251,\n",
       "       0.04702762, 0.04587204, 0.04042515, 0.03957632, 0.04683772,\n",
       "       0.04580305, 0.04289789, 0.0419671 , 0.03997833, 0.04718018,\n",
       "       0.04519706, 0.0459235 , 0.0412651 , 0.04568925, 0.04634979])"
      ]
     },
     "execution_count": 21,
     "metadata": {},
     "output_type": "execute_result"
    }
   ],
   "source": [
    "# prediction for first observation by these trees\n",
    "pred_oob.T[:, 0]"
   ]
  },
  {
   "cell_type": "code",
   "execution_count": 22,
   "id": "c4be582a-7eb7-444e-8731-7ef8a5e72fc2",
   "metadata": {},
   "outputs": [
    {
     "data": {
      "text/plain": [
       "4.268926388720941"
      ]
     },
     "execution_count": 22,
     "metadata": {},
     "output_type": "execute_result"
    }
   ],
   "source": [
    "numpy.mean(pred_oob.T[:, 0][numpy.invert(sampled_by_tree[:, 0])]) * forest.n_estimators"
   ]
  },
  {
   "cell_type": "code",
   "execution_count": 23,
   "id": "0522b39d-c604-4fe8-a499-dbdecf81cf99",
   "metadata": {},
   "outputs": [
    {
     "data": {
      "text/plain": [
       "True"
      ]
     },
     "execution_count": 23,
     "metadata": {},
     "output_type": "execute_result"
    }
   ],
   "source": [
    "pred_oob_mean = numpy.array([numpy.mean(pred_oob.T[:, i][numpy.invert(sampled_by_tree[:, i])]) * forest.n_estimators for i in range(y.shape[0])])\n",
    "numpy.allclose(forest.oob_prediction_, pred_oob_mean)"
   ]
  }
 ],
 "metadata": {
  "kernelspec": {
   "display_name": "Python 3 (ipykernel)",
   "language": "python",
   "name": "python3"
  },
  "language_info": {
   "codemirror_mode": {
    "name": "ipython",
    "version": 3
   },
   "file_extension": ".py",
   "mimetype": "text/x-python",
   "name": "python",
   "nbconvert_exporter": "python",
   "pygments_lexer": "ipython3",
   "version": "3.10.6"
  }
 },
 "nbformat": 4,
 "nbformat_minor": 5
}
